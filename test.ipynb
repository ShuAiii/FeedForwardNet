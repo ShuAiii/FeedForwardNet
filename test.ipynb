{
 "cells": [
  {
   "cell_type": "code",
   "execution_count": 12,
   "metadata": {},
   "outputs": [],
   "source": [
    "import numpy as np\n",
    "\n",
    "def sigmoid(x):\n",
    "    return 1/(1 + np.exp(-x))\n",
    "\n",
    "class Neuron:\n",
    "    def __init__(self, weights, bias):\n",
    "        self.weights = weights\n",
    "        self.bias = bias\n",
    "        \n",
    "    def feedforward(self, inputs):\n",
    "        total = np.dot(self.weights, inputs) + self.bias\n",
    "        return sigmoid(total)\n"
   ]
  },
  {
   "cell_type": "code",
   "execution_count": 55,
   "metadata": {},
   "outputs": [],
   "source": [
    "class Neural_Net:\n",
    "    def __init__(self, h_num, o_num, i_weights, o_weights, i_bias, o_bias):\n",
    "        self.hidden = []\n",
    "        self.output = []\n",
    "        for i in range(h_num-1):\n",
    "            self.hidden.append(Neuron(i_weights[i,:], i_bias[i]))\n",
    "        for i in range(o_num-1): \n",
    "            self.output.append(Neuron(o_weights[i,:], o_bias[i]))\n",
    "    \n",
    "    def feedforward(self, i_data):\n",
    "        o_hidden = []\n",
    "        o_output = []\n",
    "        for i in range(len(self.hidden)-1):\n",
    "            o_hidden.append(self.hidden[i].feedforward(i_data)) \n",
    "        for i in range(len(self.hidden)-1):\n",
    "            output_hidden = np.array([output_hidden,o_hidden[i]]) \n",
    "        for i in range(len(self.output)-1):\n",
    "            o_output.append(self.output[i].feedforward(output_hidden)) \n",
    "        return o_output "
   ]
  },
  {
   "cell_type": "code",
   "execution_count": 56,
   "metadata": {},
   "outputs": [
    {
     "data": {
      "text/plain": [
       "2"
      ]
     },
     "execution_count": 56,
     "metadata": {},
     "output_type": "execute_result"
    }
   ],
   "source": [
    "i_weights = np.array([[0,1],[0,1]])\n",
    "o_weights = np.array([0,1])\n",
    "i_bias = np.array([0,0]) \n",
    "o_bias = 0\n",
    "i_data = np.array([2,3])\n",
    "hidden = []\n",
    "hidden.append(Neuron(i_weights[0,:], i_bias[0]))\n",
    "o_weights.size"
   ]
  },
  {
   "cell_type": "code",
   "execution_count": 57,
   "metadata": {},
   "outputs": [],
   "source": [
    "network = Neural_Net(2,1,i_weights,o_weights,i_bias,o_bias)"
   ]
  },
  {
   "cell_type": "code",
   "execution_count": 58,
   "metadata": {},
   "outputs": [
    {
     "name": "stdout",
     "output_type": "stream",
     "text": [
      "[]\n"
     ]
    }
   ],
   "source": [
    "print(network.feedforward(i_data))"
   ]
  },
  {
   "cell_type": "code",
   "execution_count": null,
   "metadata": {},
   "outputs": [],
   "source": []
  }
 ],
 "metadata": {
  "kernelspec": {
   "display_name": "Python 3",
   "language": "python",
   "name": "python3"
  },
  "language_info": {
   "codemirror_mode": {
    "name": "ipython",
    "version": 3
   },
   "file_extension": ".py",
   "mimetype": "text/x-python",
   "name": "python",
   "nbconvert_exporter": "python",
   "pygments_lexer": "ipython3",
   "version": "3.7.3"
  }
 },
 "nbformat": 4,
 "nbformat_minor": 2
}
