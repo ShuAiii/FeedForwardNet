{
 "cells": [
  {
   "cell_type": "code",
   "execution_count": 18,
   "metadata": {},
   "outputs": [],
   "source": [
    "import numpy as np"
   ]
  },
  {
   "cell_type": "code",
   "execution_count": 19,
   "metadata": {},
   "outputs": [],
   "source": [
    "## Helper Functions ##\n",
    "def sigmoid(x):\n",
    "    return 1/(1 + np.exp(-x))\n",
    "\n",
    "def softmax(x):\n",
    "    return np.exp(x) / np.sum(np.exp(x)) \n",
    "\n",
    "def relu(x):\n",
    "    return x * (x > 0)\n",
    "\n",
    "def deriv_sigmoid(x):\n",
    "    fx = sigmoid(x)\n",
    "    return fx * (1 - fx)\n",
    "\n",
    "def deriv_loss(y_true, y_pred):\n",
    "    return -2*(y_true - y_pred)\n",
    "\n",
    "def deriv_pred(hidden, o_weight, o_bias):\n",
    "    return o_weight * deriv_sigmoid(np.dot(o_weight, hidden) + o_bias)[:,None]\n",
    "\n",
    "def deriv_hidden(i_data, i_weight, i_bias):\n",
    "    n_dim = i_weight.shape[0]\n",
    "    w_dim = i_weight.shape[1]\n",
    "    derv = np.zeros((n_dim, n_dim * w_dim + n_dim))\n",
    "    for i in range(0,n_dim):\n",
    "        derv[i : i+1, i*w_dim : (i+1)*w_dim] = np.array(i_data) * deriv_sigmoid(np.dot(i_weight[i,:],i_data) + i_bias[i])\n",
    "        derv[i : i+1, n_dim*w_dim+i : n_dim*w_dim+i+1] = deriv_sigmoid(np.dot(i_weight[i,:],i_data) + i_bias[i])\n",
    "    return derv\n",
    "\n",
    "def mse_loss(y_true, y_pred):\n",
    "    return ((y_true - y_pred) ** 2).mean()\n",
    "\n",
    "def gradient_descent(i_weight, o_weight, i_bias, o_bias, h_field, o_field, h_bias_field, o_bias_field, learning_rate):\n",
    "    i_weight = i_weight - learning_rate * h_field\n",
    "    o_weight = o_weight - learning_rate * o_field\n",
    "    i_bias = i_bias - learning_rate * h_bias_field\n",
    "    o_bias = o_bias - learning_rate * o_bias_field\n",
    "    return i_weight, o_weight, i_bias, o_bias"
   ]
  },
  {
   "cell_type": "code",
   "execution_count": 20,
   "metadata": {},
   "outputs": [],
   "source": [
    "## Neuron Class Object ##\n",
    "class Neuron:\n",
    "    def __init__(self, weight, bias):\n",
    "        self.weight = weight\n",
    "        self.bias = bias\n",
    "        \n",
    "    def feedforward(self, inputs, act_type):\n",
    "        total = np.dot(self.weight, inputs) + self.bias\n",
    "        if act_type == 0:\n",
    "            return sigmoid(total)\n",
    "        elif act_type == 1:\n",
    "            return softmax(total)\n",
    "        elif act_type == 2:\n",
    "            return relu(total)"
   ]
  },
  {
   "cell_type": "code",
   "execution_count": 21,
   "metadata": {},
   "outputs": [],
   "source": [
    "## Neural Network Class Object ##\n",
    "class Neural_Net:\n",
    "    def __init__(self, h_num, o_num, i_weight, o_weight, i_bias, o_bias):\n",
    "        self.i_weight = i_weight\n",
    "        self.o_weight = o_weight\n",
    "        self.i_bias = i_bias\n",
    "        self.o_bias = o_bias\n",
    "        self.h_num = h_num\n",
    "        self.o_num = o_num\n",
    "        self.hidden = []\n",
    "        self.output = []\n",
    "        for i in range(h_num):\n",
    "            self.hidden.append(Neuron(i_weight[i,:], i_bias[i]))\n",
    "        for i in range(o_num):\n",
    "            self.output.append(Neuron(o_weight[i,:], o_bias[i]))\n",
    "    \n",
    "    def __del__(self):\n",
    "            \n",
    "    def feedforward(self, i_data):\n",
    "        o_hidden = []\n",
    "        o_output = []\n",
    "        for i in range(self.h_num):\n",
    "            o_hidden.append(self.hidden[i].feedforward(i_data,0))\n",
    "        for i in range(self.o_num):\n",
    "            o_output.append(self.output[i].feedforward(o_hidden,0))\n",
    "        return o_output, o_hidden\n",
    "    \n",
    "    def backpropagation(self, i_y, y_pred, h_value, i_x):\n",
    "        h_field = np.matmul(np.matmul(deriv_loss(i_y,y_pred), deriv_pred(h_value,self.o_weight,self.o_bias)), deriv_hidden(i_x, self.i_weight, self.i_bias))\n",
    "        o_field = np.matmul(deriv_loss(i_y,y_pred), deriv_hidden(h_value, self.o_weight, self.o_bias))\n",
    "        h_bias_field = h_field[len(h_field)-self.h_num:]\n",
    "        h_field = np.reshape(h_field[0:len(h_field)-self.h_num], (self.h_num, len(i_x)))#h_field[0:len(h_field)-self.h_num].reshape[self.h_num, self.o_num]\n",
    "        o_bias_field = o_field[len(o_field)-self.o_num:]\n",
    "        o_field = np.reshape(o_field[0:len(o_field)-self.o_num], (self.o_num, self.h_num))\n",
    "        return h_field, o_field, h_bias_field, o_bias_field"
   ]
  },
  {
   "cell_type": "code",
   "execution_count": 62,
   "metadata": {},
   "outputs": [],
   "source": [
    "## Training Function ##\n",
    "def train(i_weight, o_weight, i_bias, o_bias, i_data, learning_rate, epoch):\n",
    "    h_size = i_weight.shape[0]\n",
    "    o_size = i_data.shape[1]\n",
    "    n = i_data.shape[1]\n",
    "    obs_n = i_data.shape[0]\n",
    "    np.random.shuffle(i_data)\n",
    "    i_y = i_data[: , n-1:n]\n",
    "    o_size = i_y.shape[1]\n",
    "    i_x = i_data[: , 0:n-1]\n",
    "    \n",
    "    for j in range(epoch):\n",
    "        loss = 0\n",
    "        for i in range(0,obs_n):\n",
    "            network = Neural_Net(h_size, o_size, i_weight, o_weight, i_bias, o_bias)\n",
    "            pred_y, h_value = network.feedforward(i_x[i, :])\n",
    "            h_field, o_field, h_bias_field, o_bias_field = network.backpropagation(i_y[i], pred_y, h_value, i_x[i, :])\n",
    "            i_weight, o_weight, i_bias, o_bias = gradient_descent(i_weight, o_weight, i_bias, o_bias, h_field, o_field, h_bias_field, o_bias_field, learning_rate)\n",
    "            loss = loss + mse_loss(i_y[i], pred_y)\n",
    "            if (j != epoch - 1 or i != obs_n - 1):\n",
    "                del network\n",
    "        print(\"Epoch %d loss: %.3f\" % (j + 1, loss))\n",
    "    return network"
   ]
  },
  {
   "cell_type": "code",
   "execution_count": 70,
   "metadata": {},
   "outputs": [
    {
     "name": "stdout",
     "output_type": "stream",
     "text": [
      "[[ 27.40100084   0.88975886   1.        ]\n",
      " [ 17.89696485   1.87840172   0.        ]\n",
      " [ 48.4010746    2.74134888   0.        ]\n",
      " ...\n",
      " [ 57.17213679   3.1330814    0.        ]\n",
      " [-20.03096175  -3.14962136   1.        ]\n",
      " [ 81.14921773   7.22307094   0.        ]]\n"
     ]
    }
   ],
   "source": [
    "## Network Parameter Initialization ##\n",
    "#i_weight = np.array([[0.3,0.7],[0.1,0.2],[0.4,0.1],[0.2,0.5],[0.3,0.7],[0.1,0.2],[0.4,0.1],[0.2,0.5],[0.4,0.1],[0.2,0.5]])\n",
    "#o_weight = np.array([[0.4,0.3,0.2,0.1,0.4,0.3,0.2,0.1,0.4,0.5]])\n",
    "#i_bias = np.array([0.5,0.4,0.3,0.5,0.4,0.3,0.5,0.4,0.3,0.5])\n",
    "#o_bias = np.array([1])\n",
    "x_i_weight = 100\n",
    "y_i_weight = 2\n",
    "i_weight = np.random.normal(size=(x_i_weight,y_i_weight))\n",
    "\n",
    "x_o_weight = 1\n",
    "y_o_weight = 100\n",
    "o_weight = np.random.normal(size=(x_o_weight,y_o_weight))\n",
    "\n",
    "x_i_bias = 1\n",
    "y_i_bias = 100\n",
    "i_bias = np.random.normal(size=(y_i_bias))\n",
    "\n",
    "x_o_bias = 1\n",
    "y_o_bias = 1\n",
    "o_bias = np.random.normal(size=(x_o_bias))\n",
    "\n",
    "## Input Data ##\n",
    "import csv\n",
    "with open('WeightHeight.csv') as csvfile:\n",
    "    readCSV = csv.reader(csvfile, delimiter=',',quoting=csv.QUOTE_NONNUMERIC)\n",
    "    sex = []\n",
    "    weight = []\n",
    "    height = []\n",
    "    for row in readCSV:\n",
    "        sex.append(row[0])\n",
    "        height.append(row[1])\n",
    "        weight.append(row[2])\n",
    "        \n",
    "sex = np.array(sex[1:])\n",
    "height = np.subtract(height[1:],66)\n",
    "weight = np.subtract(weight[1:],135)\n",
    "sex = np.where(sex=='Male',0,1)\n",
    "i_data = np.transpose(np.array([weight, height, sex]))\n",
    "np.random.shuffle(i_data)\n",
    "print(i_data)"
   ]
  },
  {
   "cell_type": "code",
   "execution_count": 71,
   "metadata": {},
   "outputs": [
    {
     "name": "stdout",
     "output_type": "stream",
     "text": [
      "Epoch 1 loss: 1476.864\n",
      "Epoch 2 loss: 1562.773\n",
      "Epoch 3 loss: 1460.574\n",
      "Epoch 4 loss: 1535.263\n",
      "Epoch 5 loss: 1506.128\n",
      "Epoch 6 loss: 1497.858\n",
      "Epoch 7 loss: 1448.336\n",
      "Epoch 8 loss: 1382.300\n",
      "Epoch 9 loss: 1423.952\n",
      "Epoch 10 loss: 1437.806\n"
     ]
    }
   ],
   "source": [
    "## Training ##\n",
    "network=train(i_weight, o_weight, i_bias, o_bias, i_data, 0.1, 10)"
   ]
  },
  {
   "cell_type": "code",
   "execution_count": 72,
   "metadata": {},
   "outputs": [
    {
     "name": "stdout",
     "output_type": "stream",
     "text": [
      "Boy: 0.002\n",
      "Girl: 0.000\n"
     ]
    }
   ],
   "source": [
    "## Prediction ##\n",
    "Boy = np.array([45, 8]) # 180 pounds, 74 inches\n",
    "Girl = np.array([6, 5])  # 141 pounds, 71 inches\n",
    "p1,h1 = network.feedforward(Boy)\n",
    "p2,h2 = network.feedforward(Girl)\n",
    "print(\"Boy: %.3f\" % p1[0])\n",
    "print(\"Girl: %.3f\" % p2[0])"
   ]
  },
  {
   "cell_type": "code",
   "execution_count": 73,
   "metadata": {},
   "outputs": [],
   "source": [
    "## Need some work still ;) ##"
   ]
  },
  {
   "cell_type": "code",
   "execution_count": null,
   "metadata": {},
   "outputs": [],
   "source": []
  }
 ],
 "metadata": {
  "kernelspec": {
   "display_name": "Python 3",
   "language": "python",
   "name": "python3"
  },
  "language_info": {
   "codemirror_mode": {
    "name": "ipython",
    "version": 3
   },
   "file_extension": ".py",
   "mimetype": "text/x-python",
   "name": "python",
   "nbconvert_exporter": "python",
   "pygments_lexer": "ipython3",
   "version": "3.7.3"
  }
 },
 "nbformat": 4,
 "nbformat_minor": 2
}
